{
  "nbformat": 4,
  "nbformat_minor": 0,
  "metadata": {
    "colab": {
      "provenance": []
    },
    "kernelspec": {
      "name": "python3",
      "display_name": "Python 3"
    },
    "language_info": {
      "name": "python"
    }
  },
  "cells": [
    {
      "cell_type": "code",
      "source": [
        "#Based on implementation found here: https://github.com/madagra/basic-pinn/blob/main/logistic_equation_1d.py"
      ],
      "metadata": {
        "id": "Hq_jqjOObYCj"
      },
      "execution_count": 1,
      "outputs": []
    },
    {
      "cell_type": "code",
      "execution_count": 2,
      "metadata": {
        "id": "N60U1wqyFeAl"
      },
      "outputs": [],
      "source": [
        "import torch\n",
        "import torch.nn as nn\n",
        "from numpy import pi\n",
        "from numpy import cos "
      ]
    },
    {
      "cell_type": "code",
      "source": [
        "batch_size = 10\n",
        "#X = torch.rand(batch_size, 1, requires_grad=True)\n",
        "X = torch.linspace(0,1,batch_size,requires_grad=True).reshape(batch_size,1)"
      ],
      "metadata": {
        "id": "ujAkJ6EVFogL"
      },
      "execution_count": 3,
      "outputs": []
    },
    {
      "cell_type": "code",
      "source": [
        "#note that the amount of parameters needed here is much higher than traditional differential equation simulation methods.\n",
        "approx = nn.Sequential(\n",
        "    nn.Linear(1,10),\n",
        "    nn.Tanh(),\n",
        "    nn.Linear(10,10),\n",
        "    nn.Tanh(),\n",
        "    nn.Linear(10,10),\n",
        "    nn.Tanh(),\n",
        "    nn.Linear(10,10),\n",
        "    nn.Tanh(),\n",
        "    nn.Linear(10,10),\n",
        "    nn.Tanh(),\n",
        "    nn.Linear(10,100),\n",
        "    nn.Tanh(),\n",
        "    nn.Linear(100,10),\n",
        "    nn.Tanh(),\n",
        "    nn.Linear(10,1)\n",
        ")\n",
        "#use Tanh() so that 2nd derivatives are nonzero."
      ],
      "metadata": {
        "id": "CDY1TtFIG-P8"
      },
      "execution_count": 4,
      "outputs": []
    },
    {
      "cell_type": "code",
      "source": [
        "def f(x):\n",
        "  return approx(x)\n",
        "\n",
        "def df(x):\n",
        "  val = f(x)\n",
        "  return torch.autograd.grad(val,x,grad_outputs=torch.ones_like(x),create_graph=True,retain_graph=True)[0]\n",
        "\n",
        "def ddf(x):\n",
        "  val = df(x)\n",
        "  return torch.autograd.grad(val,x,grad_outputs=torch.ones_like(x),create_graph=True,retain_graph=True)[0]"
      ],
      "metadata": {
        "id": "RngvulbD00H0"
      },
      "execution_count": 5,
      "outputs": []
    },
    {
      "cell_type": "code",
      "source": [
        "def loss(x):\n",
        "  reg_constant = 400\n",
        "  C = 4*pi*pi\n",
        "  eq = C*f(x) + ddf(x)\n",
        "  initial = f(torch.zeros(1)) - torch.ones(1)\n",
        "  full = eq**2 + reg_constant*initial**2\n",
        "  return full.mean()"
      ],
      "metadata": {
        "id": "CF9xLt0_0105"
      },
      "execution_count": 6,
      "outputs": []
    },
    {
      "cell_type": "code",
      "source": [
        "optimizer = torch.optim.SGD(approx.parameters(), lr=.0001)"
      ],
      "metadata": {
        "id": "V-5pCcwm3SAn"
      },
      "execution_count": 7,
      "outputs": []
    },
    {
      "cell_type": "code",
      "source": [
        "losses = []\n",
        "for epoch in range(20000):\n",
        "    \n",
        "    error = loss(X)\n",
        "    losses.append(error.item())\n",
        "\n",
        "    approx.zero_grad()\n",
        "    error.backward()\n",
        "\n",
        "    optimizer.step()"
      ],
      "metadata": {
        "id": "p88XCr5G3hfn"
      },
      "execution_count": 8,
      "outputs": []
    },
    {
      "cell_type": "code",
      "source": [
        "x_real = torch.linspace(0,1,20)\n",
        "y_real = cos(2*pi*x_real)\n",
        "y_approx = approx(x_real.reshape(20,1))"
      ],
      "metadata": {
        "id": "MerRC6PW3zqu"
      },
      "execution_count": 9,
      "outputs": []
    },
    {
      "cell_type": "code",
      "source": [
        "import matplotlib.pyplot as plt"
      ],
      "metadata": {
        "id": "WZIEHt3RkhWZ"
      },
      "execution_count": 10,
      "outputs": []
    },
    {
      "cell_type": "code",
      "source": [
        "plt.plot(x_real, y_real, label = \"real\")\n",
        "plt.plot(x_real, y_approx.detach().numpy(), label = \"approximate\")\n",
        "plt.legend()"
      ],
      "metadata": {
        "colab": {
          "base_uri": "https://localhost:8080/",
          "height": 283
        },
        "id": "FVAanRqSk3Ra",
        "outputId": "7414640f-b6ac-4330-e048-798b029e9aaa"
      },
      "execution_count": 11,
      "outputs": [
        {
          "output_type": "execute_result",
          "data": {
            "text/plain": [
              "<matplotlib.legend.Legend at 0x7fdc04a1c700>"
            ]
          },
          "metadata": {},
          "execution_count": 11
        },
        {
          "output_type": "display_data",
          "data": {
            "text/plain": [
              "<Figure size 432x288 with 1 Axes>"
            ],
            "image/png": "[encoded data removed]"
          },
          "metadata": {
            "needs_background": "light"
          }
        }
      ]
    },
    {
      "cell_type": "code",
      "source": [
        "losses[-1]"
      ],
      "metadata": {
        "colab": {
          "base_uri": "https://localhost:8080/"
        },
        "id": "yvSn6xeMk4Xr",
        "outputId": "bf7f2738-f719-44ac-af9c-6ee42b338f2c"
      },
      "execution_count": 12,
      "outputs": [
        {
          "output_type": "execute_result",
          "data": {
            "text/plain": [
              "0.0009504564222879708"
            ]
          },
          "metadata": {},
          "execution_count": 12
        }
      ]
    },
    {
      "cell_type": "code",
      "source": [
        "plt.plot(range(20000), losses)\n",
        "plt.xlabel('epochs')\n",
        "plt.ylabel('error')\n",
        "plt.title('Convergence Plot')"
      ],
      "metadata": {
        "colab": {
          "base_uri": "https://localhost:8080/",
          "height": 313
        },
        "id": "V281RBdjlEAd",
        "outputId": "557251af-0aa0-402d-d1ca-3f26a16db937"
      },
      "execution_count": 13,
      "outputs": [
        {
          "output_type": "execute_result",
          "data": {
            "text/plain": [
              "Text(0.5, 1.0, 'Convergence Plot')"
            ]
          },
          "metadata": {},
          "execution_count": 13
        },
        {
          "output_type": "display_data",
          "data": {
            "text/plain": [
              "<Figure size 432x288 with 1 Axes>"
            ],
            "image/png": "[encoded data removed]"
          },
          "metadata": {
            "needs_background": "light"
          }
        }
      ]
    },
    {
      "cell_type": "code",
      "source": [
        "#C0 error\n",
        "test_size = 100\n",
        "test_set = torch.rand(test_size,1)\n",
        "error = (approx(test_set)-cos(2*pi*test_set)).max()"
      ],
      "metadata": {
        "id": "0VZ2Af1EWCSL"
      },
      "execution_count": 14,
      "outputs": []
    },
    {
      "cell_type": "code",
      "source": [
        "print(error.item())"
      ],
      "metadata": {
        "colab": {
          "base_uri": "https://localhost:8080/"
        },
        "id": "d382nbVjWK2l",
        "outputId": "66a99f98-dcee-4091-d3cc-2a9f7bf53a5a"
      },
      "execution_count": 15,
      "outputs": [
        {
          "output_type": "stream",
          "name": "stdout",
          "text": [
            "0.17995132505893707\n"
          ]
        }
      ]
    }
  ]
}